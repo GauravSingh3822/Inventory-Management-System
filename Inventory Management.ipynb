{
 "cells": [
  {
   "cell_type": "raw",
   "id": "b47f1c83-6d59-4bc9-8718-1fefeea2f16b",
   "metadata": {},
   "source": [
    "fd=open(\"Inventory.txt\",'w')\n",
    "\n",
    "fd.close()"
   ]
  },
  {
   "cell_type": "markdown",
   "id": "bed866c2-c325-44e5-9dbf-d27f949a87b3",
   "metadata": {},
   "source": [
    "# Product Details \n",
    "1.Product ID\n",
    "2.Name of Produt\n",
    "3.Price of Produt\n",
    "4.Quantity"
   ]
  },
  {
   "cell_type": "code",
   "execution_count": 1,
   "id": "a3273b52-29e7-4372-ab9a-c41bf7c87bb6",
   "metadata": {},
   "outputs": [],
   "source": [
    "fd=open(\"Inventory.txt\",'r')\n",
    "products=fd.read().split('\\n')\n",
    "fd.close()"
   ]
  },
  {
   "cell_type": "code",
   "execution_count": 25,
   "id": "8e8056dd-c76e-40d6-891c-6f8f25408ac4",
   "metadata": {},
   "outputs": [
    {
     "name": "stdin",
     "output_type": "stream",
     "text": [
      "Enter product Id : 1\n",
      "Enter product Quantity : 1\n"
     ]
    },
    {
     "name": "stdout",
     "output_type": "stream",
     "text": [
      "----------------------------------------\n",
      "Product Name    :  5star\n",
      "Price           :  100\n",
      "Quantity        :  1\n",
      "----------------------------------------\n",
      "Billing Amount  : 100\n",
      "-----------------------------------------\n",
      "----------------------------------------\n",
      "Product Name    :  Milkybar\n",
      "Price           :  200\n",
      "Quantity        :  1\n",
      "----------------------------------------\n",
      "Billing Amount  : 100\n",
      "-----------------------------------------\n",
      "----------------------------------------\n",
      "Product Name    :  Maggie\n",
      "Price           :  100\n",
      "Quantity        :  1\n",
      "----------------------------------------\n",
      "Billing Amount  : 100\n",
      "-----------------------------------------\n",
      "----------------------------------------\n",
      "Product Name    :  Chips\n",
      "Price           :  10\n",
      "Quantity        :  1\n",
      "----------------------------------------\n",
      "Billing Amount  : 100\n",
      "-----------------------------------------\n",
      "----------------------------------------\n",
      "Product Name    :  Fruit\n",
      "Price           :  150\n",
      "Quantity        :  1\n",
      "----------------------------------------\n",
      "Billing Amount  : 100\n",
      "-----------------------------------------\n"
     ]
    }
   ],
   "source": [
    "Required_product_id=input(\"Enter product Id :\")\n",
    "Required_Product_Quantity=input(\"Enter product Quantity :\")\n",
    "updated_product_lst=[]\n",
    "\n",
    "for product in products:\n",
    "    \n",
    "    product_details=product.split(',')\n",
    "\n",
    "    if(product_detail[0]==Required_product_id):\n",
    "        print(\"----------------------------------------\")\n",
    "        print(\"Product Name    : \",product_details[1])\n",
    "        print(\"Price           : \",product_details[2])\n",
    "        print(\"Quantity        : \",Required_Product_Quantity)\n",
    "        print(\"----------------------------------------\")\n",
    "        print(\"Billing Amount  :\",int(Required_Product_Quantity)*int(product_detail[2]))\n",
    "        print(\"-----------------------------------------\")\n",
    "        \n",
    "        product_details[3]=str(int(product_details[3])-int(Required_Product_Quantity))\n",
    "        \n",
    "     \n",
    "    updated_product_lst.append(product_details)\n",
    "\n",
    "\n",
    "lst=[]\n",
    "\n",
    "for i in updated_product_lst:\n",
    "    prod=i[0] +\",\"+ i[1] +\",\"+  i[2] +\",\"+  i[3] +'\\n'\n",
    "    lst.append(prod)\n",
    "    \n",
    "lst[-1]=lst[-1][:-1]\n",
    "\n",
    "fd=open('Inventory.txt','w')\n",
    "\n",
    "for i in lst:\n",
    "    fd.write(i)\n",
    "\n",
    "fd.close()\n"
   ]
  },
  {
   "cell_type": "code",
   "execution_count": null,
   "id": "7f57572b-78ae-4ad3-afcf-61bc49999b59",
   "metadata": {},
   "outputs": [],
   "source": []
  }
 ],
 "metadata": {
  "kernelspec": {
   "display_name": "Python 3 (ipykernel)",
   "language": "python",
   "name": "python3"
  },
  "language_info": {
   "codemirror_mode": {
    "name": "ipython",
    "version": 3
   },
   "file_extension": ".py",
   "mimetype": "text/x-python",
   "name": "python",
   "nbconvert_exporter": "python",
   "pygments_lexer": "ipython3",
   "version": "3.11.7"
  }
 },
 "nbformat": 4,
 "nbformat_minor": 5
}
